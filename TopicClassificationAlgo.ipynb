{
  "nbformat": 4,
  "nbformat_minor": 0,
  "metadata": {
    "colab": {
      "name": "TopicClassificationAlgo.ipynb",
      "provenance": [],
      "collapsed_sections": [],
      "mount_file_id": "1ban0yT5v7g7GyPMMah72NanJD63qV8HF",
      "authorship_tag": "ABX9TyNaQQYfYtBLlH10tA1iTTCC",
      "include_colab_link": true
    },
    "kernelspec": {
      "name": "python3",
      "display_name": "Python 3"
    },
    "language_info": {
      "name": "python"
    }
  },
  "cells": [
    {
      "cell_type": "markdown",
      "metadata": {
        "id": "view-in-github",
        "colab_type": "text"
      },
      "source": [
        "<a href=\"https://colab.research.google.com/github/SrishtiPatil/supervised-methods-for-text-categorization/blob/main/TopicClassificationAlgo.ipynb\" target=\"_parent\"><img src=\"https://colab.research.google.com/assets/colab-badge.svg\" alt=\"Open In Colab\"/></a>"
      ]
    },
    {
      "cell_type": "code",
      "metadata": {
        "id": "uS95lzfJXg5R",
        "colab": {
          "base_uri": "https://localhost:8080/"
        },
        "outputId": "361e54a5-a388-4c26-8267-fbcbaad03576"
      },
      "source": [
        "import pandas as pd\n",
        "import matplotlib.pyplot as plt\n",
        "import seaborn as sns\n",
        "from sklearn.model_selection import train_test_split\n",
        "from sklearn.pipeline import Pipeline\n",
        "from sklearn.feature_extraction.text import TfidfVectorizer\n",
        "from nltk.corpus import stopwords\n",
        "from sklearn.multiclass import OneVsRestClassifier\n",
        "from sklearn.naive_bayes import MultinomialNB\n",
        "from sklearn.metrics import accuracy_score,f1_score\n",
        "import nltk\n",
        "nltk.download('stopwords')\n",
        "stop_words = set(stopwords.words('english'))"
      ],
      "execution_count": null,
      "outputs": [
        {
          "output_type": "stream",
          "text": [
            "[nltk_data] Downloading package stopwords to /root/nltk_data...\n",
            "[nltk_data]   Unzipping corpora/stopwords.zip.\n"
          ],
          "name": "stdout"
        }
      ]
    },
    {
      "cell_type": "code",
      "metadata": {
        "id": "gpNENWRbXvN8"
      },
      "source": [
        "train_path = '/topics1.xlsx'\n",
        "validation_path = '/valid_tagged.xlsx'\n",
        "test_path = '/test_tagged.xlsx'\n",
        "xls = pd.ExcelFile(train_path)\n",
        "df_train = xls.parse('Sheet1')\n",
        "xls = pd.ExcelFile(validation_path)\n",
        "df_val = xls.parse('Sheet1')\n",
        "xls = pd.ExcelFile(test_path)\n",
        "df_test = xls.parse('Sheet1')"
      ],
      "execution_count": null,
      "outputs": []
    },
    {
      "cell_type": "code",
      "metadata": {
        "colab": {
          "base_uri": "https://localhost:8080/",
          "height": 195
        },
        "id": "RqDb1DQqZmMg",
        "outputId": "1f5bd85a-a710-49c9-dd63-640b980554c8"
      },
      "source": [
        "df_train.head()"
      ],
      "execution_count": null,
      "outputs": [
        {
          "output_type": "execute_result",
          "data": {
            "text/html": [
              "<div>\n",
              "<style scoped>\n",
              "    .dataframe tbody tr th:only-of-type {\n",
              "        vertical-align: middle;\n",
              "    }\n",
              "\n",
              "    .dataframe tbody tr th {\n",
              "        vertical-align: top;\n",
              "    }\n",
              "\n",
              "    .dataframe thead th {\n",
              "        text-align: right;\n",
              "    }\n",
              "</style>\n",
              "<table border=\"1\" class=\"dataframe\">\n",
              "  <thead>\n",
              "    <tr style=\"text-align: right;\">\n",
              "      <th></th>\n",
              "      <th>speaker</th>\n",
              "      <th>message</th>\n",
              "      <th>tags</th>\n",
              "    </tr>\n",
              "  </thead>\n",
              "  <tbody>\n",
              "    <tr>\n",
              "      <th>0</th>\n",
              "      <td>0</td>\n",
              "      <td>Are you a fan of Google or Microsoft?</td>\n",
              "      <td>'PERSON','ORG','NORP'</td>\n",
              "    </tr>\n",
              "    <tr>\n",
              "      <th>1</th>\n",
              "      <td>1</td>\n",
              "      <td>Both are excellent technology they are helpful...</td>\n",
              "      <td>'ORG',</td>\n",
              "    </tr>\n",
              "    <tr>\n",
              "      <th>2</th>\n",
              "      <td>0</td>\n",
              "      <td>I'm not  a huge fan of Google, but I use it a ...</td>\n",
              "      <td>'GPE','ORG'</td>\n",
              "    </tr>\n",
              "    <tr>\n",
              "      <th>3</th>\n",
              "      <td>1</td>\n",
              "      <td>Google provides online related services and pr...</td>\n",
              "      <td>'PERSON','LOC','NORP'</td>\n",
              "    </tr>\n",
              "    <tr>\n",
              "      <th>4</th>\n",
              "      <td>0</td>\n",
              "      <td>Yeah, their services are good. I'm just not a ...</td>\n",
              "      <td>'ORG',</td>\n",
              "    </tr>\n",
              "  </tbody>\n",
              "</table>\n",
              "</div>"
            ],
            "text/plain": [
              "   speaker  ...                   tags\n",
              "0        0  ...  'PERSON','ORG','NORP'\n",
              "1        1  ...                 'ORG',\n",
              "2        0  ...            'GPE','ORG'\n",
              "3        1  ...  'PERSON','LOC','NORP'\n",
              "4        0  ...                 'ORG',\n",
              "\n",
              "[5 rows x 3 columns]"
            ]
          },
          "metadata": {
            "tags": []
          },
          "execution_count": 3
        }
      ]
    },
    {
      "cell_type": "code",
      "metadata": {
        "id": "W4Ine7eYbVa2"
      },
      "source": [
        "import re\n",
        "def clean_text(text):\n",
        "  text = text.lower()\n",
        "  text = re.sub(r\"\\'s\", \" \", text)\n",
        "  text = re.sub(r\"\\'ve\", \" have \", text)\n",
        "  text = re.sub(r\"can't\", \"can not \", text)    \n",
        "  text = re.sub(r\"n't\", \" not \", text)\n",
        "  text = re.sub(r\"\\'d\", \" would \", text)\n",
        "  text = re.sub(r\"\\'ll\", \" will \", text)\n",
        "  text = re.sub(r\"i'm\", \"i am \", text)\n",
        "  text = re.sub(r\"\\'re\", \" are \", text)\n",
        "  text = text.strip(' ')\n",
        "  return text\n",
        "\n",
        "df_train['message'] = df_train['message'].map(lambda msg : clean_text(str(msg)))\n",
        "df_test['message'] = df_test['message'].map(lambda msg : clean_text(str(msg)))\n",
        "df_val['message'] = df_val['message'].map(lambda msg : clean_text(str(msg)))"
      ],
      "execution_count": null,
      "outputs": []
    },
    {
      "cell_type": "code",
      "metadata": {
        "id": "sA4q7GOVZnp_"
      },
      "source": [
        "y_train, y_test, y_val = ([], ) * 3\n",
        "for i in df_train['tags']:\n",
        "  y_train.append(eval(i))\n",
        "\n",
        "for i in df_val['tags']:\n",
        "  y_val.append(eval(i))\n",
        "\n",
        "for i in df_test['tags']:\n",
        "  y_test.append(eval(i))\n",
        "\n"
      ],
      "execution_count": null,
      "outputs": []
    },
    {
      "cell_type": "code",
      "metadata": {
        "colab": {
          "base_uri": "https://localhost:8080/"
        },
        "id": "eSNGUE9V_xiK",
        "outputId": "81b6ff7f-036a-46c7-f65e-e2050b731ccc"
      },
      "source": [
        "y_test[0:20]"
      ],
      "execution_count": null,
      "outputs": [
        {
          "output_type": "execute_result",
          "data": {
            "text/plain": [
              "[('PERSON', 'ORG', 'NORP'),\n",
              " ('ORG',),\n",
              " ('GPE', 'ORG'),\n",
              " ('PERSON', 'LOC', 'NORP'),\n",
              " ('ORG',),\n",
              " ('GPE', 'PERSON', 'ORG', 'NORP'),\n",
              " ('PERSON', 'ORG', 'NORP'),\n",
              " ('GPE', 'PERSON', 'ORG', 'NORP'),\n",
              " ('PERSON', 'ORG', 'DATE', 'NORP'),\n",
              " ('QUANTITY', 'PERSON', 'NORP', 'MONEY', 'CARDINAL'),\n",
              " ('DATE',),\n",
              " ('ORG', 'PERSON'),\n",
              " ('PERSON', 'ORG', 'LOC', 'NORP'),\n",
              " ('GPE', 'ORG', 'PERSON'),\n",
              " ('ORG', 'NORP'),\n",
              " ('ORG', 'PERSON'),\n",
              " ('ORG', 'DATE', 'PERSON'),\n",
              " ('ORG',),\n",
              " ('GPE', 'ORG', 'DATE', 'PERSON'),\n",
              " ('PERSON',)]"
            ]
          },
          "metadata": {
            "tags": []
          },
          "execution_count": 6
        }
      ]
    },
    {
      "cell_type": "code",
      "metadata": {
        "id": "0ZSGc7_3bY6q"
      },
      "source": [
        "from sklearn.preprocessing import MultiLabelBinarizer\n",
        "mlb = MultiLabelBinarizer()\n",
        "mlb_train = mlb.fit_transform(y_train)\n",
        "mlb_test = mlb.fit_transform(y_test)\n",
        "mlb_val = mlb.fit_transform(y_val)\n",
        "cols = mlb.classes_"
      ],
      "execution_count": null,
      "outputs": []
    },
    {
      "cell_type": "code",
      "metadata": {
        "colab": {
          "base_uri": "https://localhost:8080/"
        },
        "id": "wQw2NCrPJxr6",
        "outputId": "51b9fd0c-3d9d-4c70-accd-8d05053bf97b"
      },
      "source": [
        "print(mlb_train[0:10,:])"
      ],
      "execution_count": null,
      "outputs": [
        {
          "output_type": "stream",
          "text": [
            "[[0 0 0 0 0 0 0 0 0 1 0 1 0 1 0 0 0 0]\n",
            " [0 0 0 0 0 0 0 0 0 0 0 1 0 0 0 0 0 0]\n",
            " [0 0 0 0 1 0 0 0 0 0 0 1 0 0 0 0 0 0]\n",
            " [0 0 0 0 0 0 0 1 0 1 0 0 0 1 0 0 0 0]\n",
            " [0 0 0 0 0 0 0 0 0 0 0 1 0 0 0 0 0 0]\n",
            " [0 0 0 0 1 0 0 0 0 1 0 1 0 1 0 0 0 0]\n",
            " [0 0 0 0 0 0 0 0 0 1 0 1 0 1 0 0 0 0]\n",
            " [0 0 0 0 1 0 0 0 0 1 0 1 0 1 0 0 0 0]\n",
            " [0 1 0 0 0 0 0 0 0 1 0 1 0 1 0 0 0 0]\n",
            " [1 0 0 0 0 0 0 0 1 1 0 0 0 1 0 1 0 0]]\n"
          ],
          "name": "stdout"
        }
      ]
    },
    {
      "cell_type": "code",
      "metadata": {
        "colab": {
          "base_uri": "https://localhost:8080/"
        },
        "id": "ToL9FoMsimx-",
        "outputId": "e8889250-ba8c-4cb8-aa12-5885a780600b"
      },
      "source": [
        "print(cols)"
      ],
      "execution_count": null,
      "outputs": [
        {
          "output_type": "stream",
          "text": [
            "['CARDINAL' 'DATE' 'EVENT' 'FAC' 'GPE' 'LANGUAGE' 'LAW' 'LOC' 'MONEY'\n",
            " 'NORP' 'ORDINAL' 'ORG' 'PERCENT' 'PERSON' 'PRODUCT' 'QUANTITY' 'TIME'\n",
            " 'WORK_OF_ART']\n"
          ],
          "name": "stdout"
        }
      ]
    },
    {
      "cell_type": "code",
      "metadata": {
        "id": "D8guZ57EnxCE"
      },
      "source": [
        "df_temp = pd.DataFrame(mlb_train)\n",
        "df_train = df_train.join(df_temp)\n",
        "df_temp = pd.DataFrame(mlb_test)\n",
        "df_test = df_test.join(df_temp)\n",
        "df_temp = pd.DataFrame(mlb_val)\n",
        "df_val = df_val.join(df_temp)\n",
        "df_train.columns = ['speaker','message','tags','CARDINAL','DATE','EVENT','FAC','GPE','LANGUAGE','LAW','LOC','MONEY','NORP','ORDINAL','ORG','PERCENT','PERSON','PRODUCT','QUANTITY','TIME','WORK_OF_ART']\n",
        "df_test.columns = ['speaker','message','tags','CARDINAL','DATE','EVENT','FAC','GPE','LANGUAGE','LAW','LOC','MONEY','NORP','ORDINAL','ORG','PERCENT','PERSON','PRODUCT','QUANTITY','TIME','WORK_OF_ART']\n",
        "df_val.columns = ['speaker','message','tags','CARDINAL','DATE','EVENT','FAC','GPE','LANGUAGE','LAW','LOC','MONEY','NORP','ORDINAL','ORG','PERCENT','PERSON','PRODUCT','QUANTITY','TIME','WORK_OF_ART']"
      ],
      "execution_count": null,
      "outputs": []
    },
    {
      "cell_type": "code",
      "metadata": {
        "id": "8mrrLaCuv6NI"
      },
      "source": [
        "X_train = df_train['message']\n",
        "y_train = df_train[['CARDINAL','DATE','EVENT','FAC','GPE','LANGUAGE','LAW','LOC','MONEY','NORP','ORDINAL','ORG','PERCENT','PERSON','PRODUCT','QUANTITY','TIME','WORK_OF_ART']]\n",
        "X_test = df_test['message']\n",
        "y_test = df_test[['CARDINAL','DATE','EVENT','FAC','GPE','LANGUAGE','LAW','LOC','MONEY','NORP','ORDINAL','ORG','PERCENT','PERSON','PRODUCT','QUANTITY','TIME','WORK_OF_ART']]\n",
        "X_val = df_val['message']\n",
        "y_val = df_val[['CARDINAL','DATE','EVENT','FAC','GPE','LANGUAGE','LAW','LOC','MONEY','NORP','ORDINAL','ORG','PERCENT','PERSON','PRODUCT','QUANTITY','TIME','WORK_OF_ART']]"
      ],
      "execution_count": null,
      "outputs": []
    },
    {
      "cell_type": "code",
      "metadata": {
        "id": "7GaJx9ZGn5aD"
      },
      "source": [
        "accuracy_mat = pd.DataFrame()"
      ],
      "execution_count": null,
      "outputs": []
    },
    {
      "cell_type": "code",
      "metadata": {
        "id": "Bamwsg4qy02S",
        "colab": {
          "base_uri": "https://localhost:8080/"
        },
        "outputId": "c5be2e7b-9e07-4b62-b5ca-0972841437cc"
      },
      "source": [
        "temp_val = []\n",
        "#Implementing OneVsRest Naive Bayes\n",
        "NB_pipeline = Pipeline([\n",
        "                ('tfidf', TfidfVectorizer(stop_words=stop_words)),\n",
        "                ('clf', OneVsRestClassifier(MultinomialNB(\n",
        "                    fit_prior=True, class_prior=None))),\n",
        "            ])\n",
        "for c in cols:\n",
        "    print('Training for tag {}'.format(c))\n",
        "    # train the model using X_dtm & y\n",
        "    NB_pipeline.fit(X_train, y_train[c])\n",
        "    # compute the testing accuracy\n",
        "    prediction = NB_pipeline.predict(X_val)\n",
        "    temp_val.append(accuracy_score(y_val[c], prediction))\n",
        "\n",
        "accuracy_mat['Naive_Bayes_val'] = temp_val"
      ],
      "execution_count": null,
      "outputs": [
        {
          "output_type": "stream",
          "text": [
            "Training for tag CARDINAL\n",
            "Training for tag DATE\n",
            "Training for tag EVENT\n",
            "Training for tag FAC\n",
            "Training for tag GPE\n",
            "Training for tag LANGUAGE\n",
            "Training for tag LAW\n",
            "Training for tag LOC\n",
            "Training for tag MONEY\n",
            "Training for tag NORP\n",
            "Training for tag ORDINAL\n",
            "Training for tag ORG\n",
            "Training for tag PERCENT\n",
            "Training for tag PERSON\n",
            "Training for tag PRODUCT\n",
            "Training for tag QUANTITY\n",
            "Training for tag TIME\n",
            "Training for tag WORK_OF_ART\n"
          ],
          "name": "stdout"
        }
      ]
    },
    {
      "cell_type": "code",
      "metadata": {
        "colab": {
          "base_uri": "https://localhost:8080/"
        },
        "id": "wE2sZK-Oe3NB",
        "outputId": "96892b19-c3fd-462e-c789-f812ad16598a"
      },
      "source": [
        "from sklearn.svm import LinearSVC\n",
        "temp_val=[]\n",
        "SVC_pipeline = Pipeline([\n",
        "                ('tfidf', TfidfVectorizer(stop_words=stop_words)),\n",
        "                ('clf', OneVsRestClassifier(LinearSVC(), n_jobs=1)),\n",
        "            ])\n",
        "for c in cols:\n",
        "    print('Training for tag {}'.format(c))\n",
        "    # train the model using X_dtm & y\n",
        "    SVC_pipeline.fit(X_train, y_train[c])\n",
        "    # compute the testing accuracy\n",
        "    prediction = SVC_pipeline.predict(X_val)\n",
        "    temp_val.append(accuracy_score(y_val[c], prediction))\n",
        "\n",
        "accuracy_mat['LinearSVC val'] = temp_val"
      ],
      "execution_count": null,
      "outputs": [
        {
          "output_type": "stream",
          "text": [
            "Training for tag CARDINAL\n",
            "Training for tag DATE\n",
            "Training for tag EVENT\n",
            "Training for tag FAC\n",
            "Training for tag GPE\n",
            "Training for tag LANGUAGE\n",
            "Training for tag LAW\n",
            "Training for tag LOC\n",
            "Training for tag MONEY\n",
            "Training for tag NORP\n",
            "Training for tag ORDINAL\n",
            "Training for tag ORG\n",
            "Training for tag PERCENT\n",
            "Training for tag PERSON\n",
            "Training for tag PRODUCT\n",
            "Training for tag QUANTITY\n",
            "Training for tag TIME\n",
            "Training for tag WORK_OF_ART\n"
          ],
          "name": "stdout"
        }
      ]
    },
    {
      "cell_type": "code",
      "metadata": {
        "colab": {
          "base_uri": "https://localhost:8080/"
        },
        "id": "GHixtyXhfzFb",
        "outputId": "6861fd83-7507-41c1-b86d-4f6f7c722080"
      },
      "source": [
        "from sklearn.linear_model import LogisticRegression\n",
        "temp_val=[]\n",
        "prediction = []\n",
        "LogReg_pipeline = Pipeline([\n",
        "                ('tfidf', TfidfVectorizer(stop_words=stop_words)),\n",
        "                ('clf', OneVsRestClassifier(LogisticRegression(solver='sag'), n_jobs=1)),\n",
        "            ])\n",
        "\n",
        "for c in cols:\n",
        "    print('Training for tag {}'.format(c))\n",
        "    # train the model using X_dtm & y\n",
        "    LogReg_pipeline.fit(X_train, y_train[c])\n",
        "    # compute the testing accuracy\n",
        "    prediction = LogReg_pipeline.predict(X_val)\n",
        "    temp_val.append(accuracy_score(y_val[c], prediction))\n",
        "\n",
        "accuracy_mat['LogReg val'] = temp_val"
      ],
      "execution_count": null,
      "outputs": [
        {
          "output_type": "stream",
          "text": [
            "Training for tag CARDINAL\n",
            "Training for tag DATE\n",
            "Training for tag EVENT\n",
            "Training for tag FAC\n",
            "Training for tag GPE\n",
            "Training for tag LANGUAGE\n",
            "Training for tag LAW\n",
            "Training for tag LOC\n",
            "Training for tag MONEY\n",
            "Training for tag NORP\n",
            "Training for tag ORDINAL\n",
            "Training for tag ORG\n",
            "Training for tag PERCENT\n",
            "Training for tag PERSON\n",
            "Training for tag PRODUCT\n",
            "Training for tag QUANTITY\n",
            "Training for tag TIME\n",
            "Training for tag WORK_OF_ART\n"
          ],
          "name": "stdout"
        }
      ]
    },
    {
      "cell_type": "code",
      "metadata": {
        "id": "XZa3W9jXswBz"
      },
      "source": [
        "accuracy_mat['tags'] = mlb.classes_"
      ],
      "execution_count": null,
      "outputs": []
    },
    {
      "cell_type": "code",
      "metadata": {
        "colab": {
          "base_uri": "https://localhost:8080/",
          "height": 580
        },
        "id": "oXR4A2RBt8q0",
        "outputId": "60ff864a-8717-4ac8-c18a-ca867f7ee6e6"
      },
      "source": [
        "accuracy_mat"
      ],
      "execution_count": null,
      "outputs": [
        {
          "output_type": "execute_result",
          "data": {
            "text/html": [
              "<div>\n",
              "<style scoped>\n",
              "    .dataframe tbody tr th:only-of-type {\n",
              "        vertical-align: middle;\n",
              "    }\n",
              "\n",
              "    .dataframe tbody tr th {\n",
              "        vertical-align: top;\n",
              "    }\n",
              "\n",
              "    .dataframe thead th {\n",
              "        text-align: right;\n",
              "    }\n",
              "</style>\n",
              "<table border=\"1\" class=\"dataframe\">\n",
              "  <thead>\n",
              "    <tr style=\"text-align: right;\">\n",
              "      <th></th>\n",
              "      <th>Naive_Bayes_val</th>\n",
              "      <th>LinearSVC val</th>\n",
              "      <th>LogReg val</th>\n",
              "      <th>tags</th>\n",
              "    </tr>\n",
              "  </thead>\n",
              "  <tbody>\n",
              "    <tr>\n",
              "      <th>0</th>\n",
              "      <td>0.760808</td>\n",
              "      <td>0.707131</td>\n",
              "      <td>0.713552</td>\n",
              "      <td>CARDINAL</td>\n",
              "    </tr>\n",
              "    <tr>\n",
              "      <th>1</th>\n",
              "      <td>0.690951</td>\n",
              "      <td>0.633935</td>\n",
              "      <td>0.635391</td>\n",
              "      <td>DATE</td>\n",
              "    </tr>\n",
              "    <tr>\n",
              "      <th>2</th>\n",
              "      <td>0.964815</td>\n",
              "      <td>0.956853</td>\n",
              "      <td>0.960534</td>\n",
              "      <td>EVENT</td>\n",
              "    </tr>\n",
              "    <tr>\n",
              "      <th>3</th>\n",
              "      <td>0.962589</td>\n",
              "      <td>0.881260</td>\n",
              "      <td>0.899837</td>\n",
              "      <td>FAC</td>\n",
              "    </tr>\n",
              "    <tr>\n",
              "      <th>4</th>\n",
              "      <td>0.504837</td>\n",
              "      <td>0.509888</td>\n",
              "      <td>0.510487</td>\n",
              "      <td>GPE</td>\n",
              "    </tr>\n",
              "    <tr>\n",
              "      <th>5</th>\n",
              "      <td>0.992295</td>\n",
              "      <td>0.991525</td>\n",
              "      <td>0.991867</td>\n",
              "      <td>LANGUAGE</td>\n",
              "    </tr>\n",
              "    <tr>\n",
              "      <th>6</th>\n",
              "      <td>0.981423</td>\n",
              "      <td>0.960106</td>\n",
              "      <td>0.960962</td>\n",
              "      <td>LAW</td>\n",
              "    </tr>\n",
              "    <tr>\n",
              "      <th>7</th>\n",
              "      <td>0.871758</td>\n",
              "      <td>0.747111</td>\n",
              "      <td>0.759695</td>\n",
              "      <td>LOC</td>\n",
              "    </tr>\n",
              "    <tr>\n",
              "      <th>8</th>\n",
              "      <td>0.978769</td>\n",
              "      <td>0.971235</td>\n",
              "      <td>0.974146</td>\n",
              "      <td>MONEY</td>\n",
              "    </tr>\n",
              "    <tr>\n",
              "      <th>9</th>\n",
              "      <td>0.717233</td>\n",
              "      <td>0.634620</td>\n",
              "      <td>0.644979</td>\n",
              "      <td>NORP</td>\n",
              "    </tr>\n",
              "    <tr>\n",
              "      <th>10</th>\n",
              "      <td>0.991097</td>\n",
              "      <td>0.987415</td>\n",
              "      <td>0.989641</td>\n",
              "      <td>ORDINAL</td>\n",
              "    </tr>\n",
              "    <tr>\n",
              "      <th>11</th>\n",
              "      <td>0.908484</td>\n",
              "      <td>0.864395</td>\n",
              "      <td>0.880404</td>\n",
              "      <td>ORG</td>\n",
              "    </tr>\n",
              "    <tr>\n",
              "      <th>12</th>\n",
              "      <td>0.998801</td>\n",
              "      <td>0.997945</td>\n",
              "      <td>0.997945</td>\n",
              "      <td>PERCENT</td>\n",
              "    </tr>\n",
              "    <tr>\n",
              "      <th>13</th>\n",
              "      <td>0.534886</td>\n",
              "      <td>0.520332</td>\n",
              "      <td>0.519904</td>\n",
              "      <td>PERSON</td>\n",
              "    </tr>\n",
              "    <tr>\n",
              "      <th>14</th>\n",
              "      <td>0.931427</td>\n",
              "      <td>0.894530</td>\n",
              "      <td>0.899324</td>\n",
              "      <td>PRODUCT</td>\n",
              "    </tr>\n",
              "    <tr>\n",
              "      <th>15</th>\n",
              "      <td>0.964301</td>\n",
              "      <td>0.948463</td>\n",
              "      <td>0.952487</td>\n",
              "      <td>QUANTITY</td>\n",
              "    </tr>\n",
              "    <tr>\n",
              "      <th>16</th>\n",
              "      <td>0.972691</td>\n",
              "      <td>0.935964</td>\n",
              "      <td>0.940930</td>\n",
              "      <td>TIME</td>\n",
              "    </tr>\n",
              "    <tr>\n",
              "      <th>17</th>\n",
              "      <td>0.980909</td>\n",
              "      <td>0.979454</td>\n",
              "      <td>0.980396</td>\n",
              "      <td>WORK_OF_ART</td>\n",
              "    </tr>\n",
              "  </tbody>\n",
              "</table>\n",
              "</div>"
            ],
            "text/plain": [
              "    Naive_Bayes_val  LinearSVC val  LogReg val         tags\n",
              "0          0.760808       0.707131    0.713552     CARDINAL\n",
              "1          0.690951       0.633935    0.635391         DATE\n",
              "2          0.964815       0.956853    0.960534        EVENT\n",
              "3          0.962589       0.881260    0.899837          FAC\n",
              "4          0.504837       0.509888    0.510487          GPE\n",
              "5          0.992295       0.991525    0.991867     LANGUAGE\n",
              "6          0.981423       0.960106    0.960962          LAW\n",
              "7          0.871758       0.747111    0.759695          LOC\n",
              "8          0.978769       0.971235    0.974146        MONEY\n",
              "9          0.717233       0.634620    0.644979         NORP\n",
              "10         0.991097       0.987415    0.989641      ORDINAL\n",
              "11         0.908484       0.864395    0.880404          ORG\n",
              "12         0.998801       0.997945    0.997945      PERCENT\n",
              "13         0.534886       0.520332    0.519904       PERSON\n",
              "14         0.931427       0.894530    0.899324      PRODUCT\n",
              "15         0.964301       0.948463    0.952487     QUANTITY\n",
              "16         0.972691       0.935964    0.940930         TIME\n",
              "17         0.980909       0.979454    0.980396  WORK_OF_ART"
            ]
          },
          "metadata": {
            "tags": []
          },
          "execution_count": 21
        }
      ]
    },
    {
      "cell_type": "code",
      "metadata": {
        "colab": {
          "base_uri": "https://localhost:8080/",
          "height": 580
        },
        "id": "vZOLLiGd_QnN",
        "outputId": "eeb40834-a22a-4eb3-e99b-18b94c19d1cb"
      },
      "source": [
        "acc_mat = accuracy_mat[['tags','Naive_Bayes_val'\t,'LinearSVC val',\t'LogReg val']]\n",
        "acc_mat"
      ],
      "execution_count": null,
      "outputs": [
        {
          "output_type": "execute_result",
          "data": {
            "text/html": [
              "<div>\n",
              "<style scoped>\n",
              "    .dataframe tbody tr th:only-of-type {\n",
              "        vertical-align: middle;\n",
              "    }\n",
              "\n",
              "    .dataframe tbody tr th {\n",
              "        vertical-align: top;\n",
              "    }\n",
              "\n",
              "    .dataframe thead th {\n",
              "        text-align: right;\n",
              "    }\n",
              "</style>\n",
              "<table border=\"1\" class=\"dataframe\">\n",
              "  <thead>\n",
              "    <tr style=\"text-align: right;\">\n",
              "      <th></th>\n",
              "      <th>tags</th>\n",
              "      <th>Naive_Bayes_val</th>\n",
              "      <th>LinearSVC val</th>\n",
              "      <th>LogReg val</th>\n",
              "    </tr>\n",
              "  </thead>\n",
              "  <tbody>\n",
              "    <tr>\n",
              "      <th>0</th>\n",
              "      <td>CARDINAL</td>\n",
              "      <td>0.760808</td>\n",
              "      <td>0.707131</td>\n",
              "      <td>0.713552</td>\n",
              "    </tr>\n",
              "    <tr>\n",
              "      <th>1</th>\n",
              "      <td>DATE</td>\n",
              "      <td>0.690951</td>\n",
              "      <td>0.633935</td>\n",
              "      <td>0.635391</td>\n",
              "    </tr>\n",
              "    <tr>\n",
              "      <th>2</th>\n",
              "      <td>EVENT</td>\n",
              "      <td>0.964815</td>\n",
              "      <td>0.956853</td>\n",
              "      <td>0.960534</td>\n",
              "    </tr>\n",
              "    <tr>\n",
              "      <th>3</th>\n",
              "      <td>FAC</td>\n",
              "      <td>0.962589</td>\n",
              "      <td>0.881260</td>\n",
              "      <td>0.899837</td>\n",
              "    </tr>\n",
              "    <tr>\n",
              "      <th>4</th>\n",
              "      <td>GPE</td>\n",
              "      <td>0.504837</td>\n",
              "      <td>0.509888</td>\n",
              "      <td>0.510487</td>\n",
              "    </tr>\n",
              "    <tr>\n",
              "      <th>5</th>\n",
              "      <td>LANGUAGE</td>\n",
              "      <td>0.992295</td>\n",
              "      <td>0.991525</td>\n",
              "      <td>0.991867</td>\n",
              "    </tr>\n",
              "    <tr>\n",
              "      <th>6</th>\n",
              "      <td>LAW</td>\n",
              "      <td>0.981423</td>\n",
              "      <td>0.960106</td>\n",
              "      <td>0.960962</td>\n",
              "    </tr>\n",
              "    <tr>\n",
              "      <th>7</th>\n",
              "      <td>LOC</td>\n",
              "      <td>0.871758</td>\n",
              "      <td>0.747111</td>\n",
              "      <td>0.759695</td>\n",
              "    </tr>\n",
              "    <tr>\n",
              "      <th>8</th>\n",
              "      <td>MONEY</td>\n",
              "      <td>0.978769</td>\n",
              "      <td>0.971235</td>\n",
              "      <td>0.974146</td>\n",
              "    </tr>\n",
              "    <tr>\n",
              "      <th>9</th>\n",
              "      <td>NORP</td>\n",
              "      <td>0.717233</td>\n",
              "      <td>0.634620</td>\n",
              "      <td>0.644979</td>\n",
              "    </tr>\n",
              "    <tr>\n",
              "      <th>10</th>\n",
              "      <td>ORDINAL</td>\n",
              "      <td>0.991097</td>\n",
              "      <td>0.987415</td>\n",
              "      <td>0.989641</td>\n",
              "    </tr>\n",
              "    <tr>\n",
              "      <th>11</th>\n",
              "      <td>ORG</td>\n",
              "      <td>0.908484</td>\n",
              "      <td>0.864395</td>\n",
              "      <td>0.880404</td>\n",
              "    </tr>\n",
              "    <tr>\n",
              "      <th>12</th>\n",
              "      <td>PERCENT</td>\n",
              "      <td>0.998801</td>\n",
              "      <td>0.997945</td>\n",
              "      <td>0.997945</td>\n",
              "    </tr>\n",
              "    <tr>\n",
              "      <th>13</th>\n",
              "      <td>PERSON</td>\n",
              "      <td>0.534886</td>\n",
              "      <td>0.520332</td>\n",
              "      <td>0.519904</td>\n",
              "    </tr>\n",
              "    <tr>\n",
              "      <th>14</th>\n",
              "      <td>PRODUCT</td>\n",
              "      <td>0.931427</td>\n",
              "      <td>0.894530</td>\n",
              "      <td>0.899324</td>\n",
              "    </tr>\n",
              "    <tr>\n",
              "      <th>15</th>\n",
              "      <td>QUANTITY</td>\n",
              "      <td>0.964301</td>\n",
              "      <td>0.948463</td>\n",
              "      <td>0.952487</td>\n",
              "    </tr>\n",
              "    <tr>\n",
              "      <th>16</th>\n",
              "      <td>TIME</td>\n",
              "      <td>0.972691</td>\n",
              "      <td>0.935964</td>\n",
              "      <td>0.940930</td>\n",
              "    </tr>\n",
              "    <tr>\n",
              "      <th>17</th>\n",
              "      <td>WORK_OF_ART</td>\n",
              "      <td>0.980909</td>\n",
              "      <td>0.979454</td>\n",
              "      <td>0.980396</td>\n",
              "    </tr>\n",
              "  </tbody>\n",
              "</table>\n",
              "</div>"
            ],
            "text/plain": [
              "           tags  Naive_Bayes_val  LinearSVC val  LogReg val\n",
              "0      CARDINAL         0.760808       0.707131    0.713552\n",
              "1          DATE         0.690951       0.633935    0.635391\n",
              "2         EVENT         0.964815       0.956853    0.960534\n",
              "3           FAC         0.962589       0.881260    0.899837\n",
              "4           GPE         0.504837       0.509888    0.510487\n",
              "5      LANGUAGE         0.992295       0.991525    0.991867\n",
              "6           LAW         0.981423       0.960106    0.960962\n",
              "7           LOC         0.871758       0.747111    0.759695\n",
              "8         MONEY         0.978769       0.971235    0.974146\n",
              "9          NORP         0.717233       0.634620    0.644979\n",
              "10      ORDINAL         0.991097       0.987415    0.989641\n",
              "11          ORG         0.908484       0.864395    0.880404\n",
              "12      PERCENT         0.998801       0.997945    0.997945\n",
              "13       PERSON         0.534886       0.520332    0.519904\n",
              "14      PRODUCT         0.931427       0.894530    0.899324\n",
              "15     QUANTITY         0.964301       0.948463    0.952487\n",
              "16         TIME         0.972691       0.935964    0.940930\n",
              "17  WORK_OF_ART         0.980909       0.979454    0.980396"
            ]
          },
          "metadata": {
            "tags": []
          },
          "execution_count": 23
        }
      ]
    }
  ]
}